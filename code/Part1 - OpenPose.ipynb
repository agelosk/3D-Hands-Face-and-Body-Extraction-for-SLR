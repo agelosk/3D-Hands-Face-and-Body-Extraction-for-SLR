{
 "cells": [
  {
   "cell_type": "code",
   "execution_count": 1,
   "metadata": {},
   "outputs": [],
   "source": [
    "import numpy as np, os, random, json, re\n",
    "from PIL import Image\n",
    "from sklearn.preprocessing import LabelEncoder, StandardScaler"
   ]
  },
  {
   "cell_type": "code",
   "execution_count": 2,
   "metadata": {},
   "outputs": [],
   "source": [
    "# sort files as 1,2,3,4,... and not as 1,10,100,11,...\n",
    "def sort_nicely(l):\n",
    "    convert = lambda text: int(text) if text.isdigit() else text\n",
    "    alphanum_key = lambda key: [ convert(c) for c in re.split('([0-9]+)', key) ]\n",
    "    l.sort( key=alphanum_key )"
   ]
  },
  {
   "cell_type": "code",
   "execution_count": 3,
   "metadata": {},
   "outputs": [],
   "source": [
    "dir_1 = # where the openpose parameters of kostas' images are saved\n",
    "dir_2 = # where the openpose parameters of olga's  images are saved\n",
    "\n",
    "classes = np.load('classes.npy')"
   ]
  },
  {
   "cell_type": "code",
   "execution_count": 4,
   "metadata": {
    "scrolled": false
   },
   "outputs": [],
   "source": [
    "x, y_n = [], []\n",
    "for c in classes:\n",
    "    for dir in os.listdir(dir_1):\n",
    "        if c==dir:\n",
    "            x.extend([dir_1+dir+'/'+f for f in os.listdir(dir_1+dir) if 'npz' not in f])\n",
    "            length = len([f for f in os.listdir(dir_1+dir) if 'npz' not in f])\n",
    "            y_n.extend([dir]*length)\n",
    "            \n",
    "for c in classes:\n",
    "    for dir in os.listdir(dir_2):\n",
    "        if c==dir:\n",
    "            x.extend([dir_2+dir+'/'+f for f in os.listdir(dir_2+dir) if 'npz' not in f])\n",
    "            length = len([f for f in os.listdir(dir_2+dir) if 'npz' not in f])\n",
    "            y_n.extend([dir]*length)"
   ]
  },
  {
   "cell_type": "code",
   "execution_count": 5,
   "metadata": {},
   "outputs": [],
   "source": [
    "le = LabelEncoder()\n",
    "y = le.fit_transform(y_n)\n",
    "x = np.array(x)"
   ]
  },
  {
   "cell_type": "code",
   "execution_count": 6,
   "metadata": {},
   "outputs": [],
   "source": [
    "X_train, X_dev, X_test = [], [], []\n",
    "Y_train, Y_dev, Y_test = [], [], []\n",
    "for i in range(0,max(y)+1):\n",
    "    indices = [j for j in range(len(y)) if y[j]==i]; random.shuffle(indices)\n",
    "    train = indices[0:int(len(indices)*0.6)]\n",
    "    dev   = indices[int(0.6*len(indices)):int(0.8*len(indices))]\n",
    "    test  = indices[int(0.8*len(indices)):len(indices)]\n",
    "    X_train.extend(x[train]); Y_train.extend([i]*len(train))\n",
    "    X_dev.extend(x[dev]); Y_dev.extend([i]*len(dev))\n",
    "    X_test.extend(x[test]); Y_test.extend([i]*len(test))"
   ]
  },
  {
   "cell_type": "code",
   "execution_count": 7,
   "metadata": {
    "scrolled": true
   },
   "outputs": [],
   "source": [
    "train_feat, i = [], 0\n",
    "for x in X_train:\n",
    "    features = []\n",
    "    jsons = [x+'/'+f for f in os.listdir(x)]; sort_nicely(jsons)\n",
    "    for j in jsons:\n",
    "        with open(j) as u:\n",
    "            data = json.load(u)['people']\n",
    "            if len(data)==0: continue\n",
    "            x1 = data[0]['pose_keypoints_2d']\n",
    "            x2 = data[0]['face_keypoints_2d']\n",
    "            x3 = data[0]['hand_left_keypoints_2d']\n",
    "            x4 = data[0]['hand_right_keypoints_2d']\n",
    "            features.append(x1+x3+x4)\n",
    "            #features.append(x1+x3+x4)\n",
    "    if len(features)!=len(jsons): print(len(features),len(jsons))\n",
    "    if len(features)<5: del Y_train[i]; print(x)\n",
    "    else: i+=1; train_feat.append(features)\n",
    "\n",
    "dev_feat, i = [], 0\n",
    "for x in X_dev:\n",
    "    features = []\n",
    "    jsons = [x+'/'+f for f in os.listdir(x)]; sort_nicely(jsons)\n",
    "    for j in jsons:\n",
    "        with open(j) as u:\n",
    "            data = json.load(u)['people']\n",
    "            if len(data)==0: continue\n",
    "            x1 = data[0]['pose_keypoints_2d']\n",
    "            x2 = data[0]['face_keypoints_2d']\n",
    "            x3 = data[0]['hand_left_keypoints_2d']\n",
    "            x4 = data[0]['hand_right_keypoints_2d']\n",
    "            features.append(x1+x3+x4)\n",
    "    if len(features)!=len(jsons): print(len(features),len(jsons))\n",
    "    if len(features)<5: del Y_dev[i]; print(x)\n",
    "    else: i+=1; dev_feat.append(features)\n",
    "\n",
    "test_feat, i = [], 0\n",
    "for x in X_test:\n",
    "    features = []\n",
    "    jsons = [x+'/'+f for f in os.listdir(x)]; sort_nicely(jsons)\n",
    "    for j in jsons:\n",
    "        with open(j) as u:\n",
    "            data = json.load(u)['people']\n",
    "            if len(data)==0: continue\n",
    "            x1 = data[0]['pose_keypoints_2d']\n",
    "            x2 = data[0]['face_keypoints_2d']\n",
    "            x3 = data[0]['hand_left_keypoints_2d']\n",
    "            x4 = data[0]['hand_right_keypoints_2d']\n",
    "            features.append(x1+x3+x4)\n",
    "    if len(features)!=len(jsons): print(len(features),len(jsons))\n",
    "    if len(features)<5: del Y_test[i]; print(x)\n",
    "    else: i+=1; test_feat.append(features)"
   ]
  },
  {
   "cell_type": "code",
   "execution_count": 8,
   "metadata": {},
   "outputs": [],
   "source": [
    "scaler = StandardScaler()\n",
    "\n",
    "for i in range(len(train_feat)):\n",
    "    train_feat[i] = scaler.fit_transform(train_feat[i])\n",
    "    \n",
    "for i in range(len(dev_feat)):\n",
    "    dev_feat[i] = scaler.fit_transform(dev_feat[i])\n",
    "    \n",
    "for i in range(len(test_feat)):\n",
    "    test_feat[i] = scaler.fit_transform(test_feat[i])"
   ]
  },
  {
   "cell_type": "code",
   "execution_count": 9,
   "metadata": {},
   "outputs": [],
   "source": [
    "np.save('data/x_dev_op.npy',dev_feat); np.save('data/y_dev_op.npy',Y_dev)\n",
    "np.save('data/x_test_op.npy',test_feat); np.save('data/y_test_op.npy',Y_test)\n",
    "np.save('data/x_train_op.npy',train_feat); np.save('data/y_train_op.npy',Y_train)"
   ]
  }
 ],
 "metadata": {
  "kernelspec": {
   "display_name": "Python 3",
   "language": "python",
   "name": "python3"
  },
  "language_info": {
   "codemirror_mode": {
    "name": "ipython",
    "version": 3
   },
   "file_extension": ".py",
   "mimetype": "text/x-python",
   "name": "python",
   "nbconvert_exporter": "python",
   "pygments_lexer": "ipython3",
   "version": "3.7.4"
  }
 },
 "nbformat": 4,
 "nbformat_minor": 4
}
