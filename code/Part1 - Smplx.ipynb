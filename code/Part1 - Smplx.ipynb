{
 "cells": [
  {
   "cell_type": "code",
   "execution_count": null,
   "metadata": {},
   "outputs": [],
   "source": [
    "import numpy as np, os, random, re, pickle\n",
    "from PIL import Image\n",
    "from sklearn.preprocessing import LabelEncoder, StandardScaler"
   ]
  },
  {
   "cell_type": "code",
   "execution_count": null,
   "metadata": {},
   "outputs": [],
   "source": [
    "# sort files as 1,2,3,4,... and not as 1,10,100,11,...\n",
    "def sort_nicely(l):\n",
    "    convert = lambda text: int(text) if text.isdigit() else text\n",
    "    alphanum_key = lambda key: [ convert(c) for c in re.split('([0-9]+)', key) ]\n",
    "    l.sort( key=alphanum_key )"
   ]
  },
  {
   "cell_type": "code",
   "execution_count": null,
   "metadata": {},
   "outputs": [],
   "source": [
    "dir_1 = # where the SMPL-X parameters of kostas' images are saved\n",
    "dir_2 = # where the SMPL-X parameters of olga's  images are saved\n",
    "\n",
    "classes = np.load('classes.npy')"
   ]
  },
  {
   "cell_type": "code",
   "execution_count": null,
   "metadata": {},
   "outputs": [],
   "source": [
    "x, y_n = [], []\n",
    "for c in classes:\n",
    "    for dir in os.listdir(dir_1):\n",
    "        if c==dir:\n",
    "            x.extend([dir_1+dir+'/'+f for f in os.listdir(dir_1+dir)])\n",
    "            length = len([f for f in os.listdir(dir_1+dir)])\n",
    "            y_n.extend([dir]*length)\n",
    "            \n",
    "for c in classes:\n",
    "    for dir in os.listdir(dir_2):\n",
    "        if c==dir:\n",
    "            x.extend([dir_2+dir+'/'+f for f in os.listdir(dir_2+dir)])\n",
    "            length = len([f for f in os.listdir(dir_2+dir)])\n",
    "            y_n.extend([dir]*length)"
   ]
  },
  {
   "cell_type": "code",
   "execution_count": null,
   "metadata": {},
   "outputs": [],
   "source": [
    "le = LabelEncoder()\n",
    "y = le.fit_transform(y_n)\n",
    "x = np.array(x)"
   ]
  },
  {
   "cell_type": "code",
   "execution_count": null,
   "metadata": {},
   "outputs": [],
   "source": [
    "X_train, X_dev, X_test = [], [], []\n",
    "Y_train, Y_dev, Y_test = [], [], []\n",
    "for i in range(0,max(y)+1):\n",
    "    indices = [j for j in range(len(y)) if y[j]==i]; random.shuffle(indices)\n",
    "    train = indices[0:int(len(indices)*0.6)]\n",
    "    dev   = indices[int(0.6*len(indices)):int(0.8*len(indices))]\n",
    "    test  = indices[int(0.8*len(indices)):len(indices)]\n",
    "    X_train.extend(x[train]); Y_train.extend([i]*len(train))\n",
    "    X_dev.extend(x[dev]); Y_dev.extend([i]*len(dev))\n",
    "    X_test.extend(x[test]); Y_test.extend([i]*len(test))"
   ]
  },
  {
   "cell_type": "code",
   "execution_count": null,
   "metadata": {},
   "outputs": [],
   "source": [
    "train_feat = []\n",
    "for x in X_train:\n",
    "    print(x)\n",
    "    break\n",
    "    images = [x+'/results/'+f for f in os.listdir(x+'/results/')]; sort_nicely(images)\n",
    "    for im in images:\n",
    "        with open(im+'/'+os.listdir(im)[0], 'rb') as f: data = pickle.load(f)\n",
    "        features.append(np.squeeze(np.concatenate((data['betas'],data['global_orient'],\n",
    "                                                   data['left_hand_pose'],data['right_hand_pose'],\n",
    "                                                   data['jaw_pose'], data['leye_pose'],\n",
    "                                                   data['reye_pose'],data['expression'],data['body_pose']),1)))\n",
    "    train_feat.append(np.array(features))\n",
    "for x in X_dev:\n",
    "    features = []\n",
    "    images = [x+'/results/'+f for f in os.listdir(x+'/results/')]; sort_nicely(images)\n",
    "    for im in images:\n",
    "        with open(im+'/'+os.listdir(im)[0], 'rb') as f: data = pickle.load(f)\n",
    "        features.append(np.squeeze(np.concatenate((data['betas'],data['global_orient'],\n",
    "                                                   data['left_hand_pose'],data['right_hand_pose'],\n",
    "                                                   data['jaw_pose'], data['leye_pose'],\n",
    "                                                   data['reye_pose'],data['expression'],data['body_pose']),1)))\n",
    "    dev_feat.append(np.array(features))\n",
    "\n",
    "test_feat = []\n",
    "for x in X_test:\n",
    "    features = []\n",
    "    images = [x+'/results/'+f for f in os.listdir(x+'/results/')]; sort_nicely(images)\n",
    "    for im in images:\n",
    "        with open(im+'/'+os.listdir(im)[0], 'rb') as f: data = pickle.load(f)\n",
    "        features.append(np.squeeze(np.concatenate((data['betas'],data['global_orient'],\n",
    "                                                   data['left_hand_pose'],data['right_hand_pose'],\n",
    "                                                   data['jaw_pose'], data['leye_pose'],\n",
    "                                                   data['reye_pose'],data['expression'],data['body_pose']),1)))\n",
    "    test_feat.append(np.array(features))"
   ]
  },
  {
   "cell_type": "code",
   "execution_count": null,
   "metadata": {},
   "outputs": [],
   "source": [
    "scaler = StandardScaler()\n",
    "\n",
    "for i in range(len(train_feat)):\n",
    "    train_feat[i] = scaler.fit_transform(train_feat[i])\n",
    "    \n",
    "for i in range(len(dev_feat)):\n",
    "    dev_feat[i] = scaler.fit_transform(dev_feat[i])\n",
    "    \n",
    "for i in range(len(test_feat)):\n",
    "    test_feat[i] = scaler.fit_transform(test_feat[i])"
   ]
  },
  {
   "cell_type": "code",
   "execution_count": null,
   "metadata": {},
   "outputs": [],
   "source": [
    "np.save('data/x_dev_sm.npy',dev_feat); np.save('data/y_dev_sm.npy',Y_dev)\n",
    "np.save('data/x_test_sm.npy',test_feat); np.save('data/y_test_sm.npy',Y_test)\n",
    "np.save('data/x_train_sm.npy',train_feat); np.save('data/y_train_sm.npy',Y_train)"
   ]
  }
 ],
 "metadata": {
  "kernelspec": {
   "display_name": "Python 3",
   "language": "python",
   "name": "python3"
  },
  "language_info": {
   "codemirror_mode": {
    "name": "ipython",
    "version": 3
   },
   "file_extension": ".py",
   "mimetype": "text/x-python",
   "name": "python",
   "nbconvert_exporter": "python",
   "pygments_lexer": "ipython3",
   "version": "3.7.4"
  }
 },
 "nbformat": 4,
 "nbformat_minor": 4
}
