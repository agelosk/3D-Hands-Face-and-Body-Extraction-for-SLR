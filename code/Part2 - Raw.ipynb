{
 "cells": [
  {
   "cell_type": "code",
   "execution_count": null,
   "metadata": {},
   "outputs": [],
   "source": [
    "import numpy as np, keras, os, re, tensorflow as tf, scipy.misc\n",
    "from PIL import Image\n",
    "from keras import Model\n",
    "from keras.preprocessing import sequence\n",
    "from keras.models import Sequential\n",
    "from keras.layers import Dense, Dropout, LSTM, Bidirectional, BatchNormalization, ZeroPadding2D, GlobalAveragePooling2D\n",
    "from keras.layers import TimeDistributed, Conv2D, MaxPooling2D, MaxPooling3D, Flatten, Activation, LeakyReLU, Input, Conv3D\n",
    "from keras.callbacks import EarlyStopping, ModelCheckpoint, ReduceLROnPlateau\n",
    "from keras.utils import to_categorical\n",
    "from keras.applications.vgg16 import VGG16\n",
    "from sklearn.preprocessing import LabelEncoder, StandardScaler\n",
    "from keras.applications.inception_resnet_v2 import InceptionResNetV2\n",
    "from keras.preprocessing.image import ImageDataGenerator"
   ]
  },
  {
   "cell_type": "code",
   "execution_count": null,
   "metadata": {},
   "outputs": [],
   "source": [
    "# sort files as 1,2,3,4,... and not as 1,10,100,11,...\n",
    "def sort_nicely(l):\n",
    "    convert = lambda text: int(text) if text.isdigit() else text\n",
    "    alphanum_key = lambda key: [ convert(c) for c in re.split('([0-9]+)', key) ]\n",
    "    l.sort( key=alphanum_key )"
   ]
  },
  {
   "cell_type": "code",
   "execution_count": null,
   "metadata": {},
   "outputs": [],
   "source": [
    "path = # path of saved .npy's\n",
    "\n",
    "x_train, y_train = np.load(path+'data/x_train.npy',allow_pickle=True), np.load(path+'data/y_train.npy')\n",
    "x_val,   y_val   = np.load(path+'data/x_val.npy',allow_pickle=True),   np.load(path+'data/y_val.npy')\n",
    "x_test,  y_test  = np.load(path+'data/x_test.npy',allow_pickle=True),  np.load(path+'data/y_test.npy')\n",
    "\n",
    "CLASSES = max(y_train)+1\n",
    "SHAPE   = (175,175)\n",
    "name    = path+'models/desired_name.hdf5'"
   ]
  },
  {
   "cell_type": "code",
   "execution_count": null,
   "metadata": {},
   "outputs": [],
   "source": [
    "class DataGenerator(keras.utils.Sequence) :\n",
    "  \n",
    "    def __init__(self, images, labels, batch_size) :\n",
    "        self.images = images\n",
    "        self.labels = labels\n",
    "        self.batch_size = batch_size\n",
    "    \n",
    "    def __len__(self) :\n",
    "        return (np.ceil(len(self.images) / float(self.batch_size))).astype(np.int)\n",
    "  \n",
    "  \n",
    "    def __getitem__(self, idx) :\n",
    "        \n",
    "        batch_x = self.images[idx * self.batch_size : (idx+1) * self.batch_size]\n",
    "        batch_y = self.labels[idx * self.batch_size : (idx+1) * self.batch_size]\n",
    "        \n",
    "        r = [batch_x[0]+'/'+f for f in os.listdir(batch_x[0])]; sort_nicely(r)\n",
    "        ret = [np.array(Image.open(ri).resize(SHAPE))/255 for ri in r]\n",
    "        \n",
    "        return np.expand_dims(np.array(ret),0),  np.expand_dims(np.squeeze([to_categorical(batch_y,CLASSES)]*len(r)),0)"
   ]
  },
  {
   "cell_type": "code",
   "execution_count": null,
   "metadata": {},
   "outputs": [],
   "source": [
    "def lstm_model(INPUT_SIZE,classes):\n",
    "    video = Input(shape=(None,)+INPUT_SIZE)\n",
    "    cnn_base = VGG16(input_shape=INPUT_SIZE,\n",
    "                     weights=\"imagenet\",\n",
    "                     include_top=False)\n",
    "    cnn_out = GlobalAveragePooling2D()(cnn_base.output)\n",
    "    cnn = Model(input=cnn_base.input, output=cnn_out)\n",
    "    cnn.trainable = False\n",
    "    encoded_frames = TimeDistributed(cnn)(video)\n",
    "    encoded_sequence = Bidirectional(LSTM(256,return_sequences=True))(encoded_frames)\n",
    "    outputs = TimeDistributed(Dense(classes,activation=\"softmax\"))(encoded_frames)\n",
    "    model = Model([video], outputs)\n",
    "    model.summary()\n",
    "    return model"
   ]
  },
  {
   "cell_type": "code",
   "execution_count": null,
   "metadata": {},
   "outputs": [],
   "source": [
    "def lstm_model(INPUT_SIZE,classes):\n",
    "\n",
    "    shape = (None,) + INPUT_SIZE\n",
    "\n",
    "    model = Sequential()\n",
    "    model.add(Conv3D(32, kernel_size=(1,3,3),input_shape=shape))\n",
    "    model.add(BatchNormalization())\n",
    "    model.add(LeakyReLU(alpha=0.3))\n",
    "    model.add(Dropout(0.2))\n",
    "    model.add(MaxPooling3D(pool_size=(1,2,2)))\n",
    "\n",
    "    model.add(Conv3D(64, kernel_size=(1, 3, 3)))\n",
    "    model.add(BatchNormalization())\n",
    "    model.add(LeakyReLU(alpha=0.3))\n",
    "    model.add(Dropout(0.2))\n",
    "    model.add(MaxPooling3D(pool_size=(1,2,2)))\n",
    "\n",
    "    model.add(Conv3D(128, kernel_size=(1,3,3)))\n",
    "    model.add(BatchNormalization())\n",
    "    model.add(LeakyReLU(alpha=0.3))\n",
    "    model.add(Dropout(0.2))\n",
    "    model.add(MaxPooling3D(pool_size=(1,2,2)))\n",
    "\n",
    "    model.add(Conv3D(256, kernel_size=(1,3,3)))\n",
    "    model.add(BatchNormalization())\n",
    "    model.add(LeakyReLU(alpha=0.3))\n",
    "    model.add(Dropout(0.2))\n",
    "    model.add(MaxPooling3D(pool_size=(1,2,2)))\n",
    "\n",
    "\n",
    "    model.add(TimeDistributed(Flatten()))\n",
    "    model.add(Bidirectional(LSTM(256,return_sequences=True)))\n",
    "    model.add(TimeDistributed(Dense(classes, activation='softmax')))\n",
    "\n",
    "    model.summary()\n",
    "    return model"
   ]
  },
  {
   "cell_type": "code",
   "execution_count": null,
   "metadata": {},
   "outputs": [],
   "source": [
    "%env CUDA_DEVICE_ORDER=PCI_BUS_ID\n",
    "%env CUDA_VISIBLE_DEVICES=0\n",
    "\n",
    "config = tf.ConfigProto( device_count = {'GPU': 0})\n",
    "config.gpu_options.allow_growth = True \n",
    "session = tf.Session(config=config)"
   ]
  },
  {
   "cell_type": "code",
   "execution_count": null,
   "metadata": {
    "scrolled": true
   },
   "outputs": [],
   "source": [
    "model = lstm_model(SHAPE+(3,),CLASSES)"
   ]
  },
  {
   "cell_type": "code",
   "execution_count": null,
   "metadata": {},
   "outputs": [],
   "source": [
    "# SOS: Works only for batch_size = 1 !\n",
    "train_generator    = DataGenerator(images=x_train, labels=y_train, batch_size=1)\n",
    "val_generator      = DataGenerator(images=x_val,   labels=y_val,   batch_size=1)\n",
    "test_generator     = DataGenerator(images=x_test,  labels=y_test,  batch_size=1)"
   ]
  },
  {
   "cell_type": "code",
   "execution_count": null,
   "metadata": {},
   "outputs": [],
   "source": [
    "from keras.callbacks import Callback\n",
    "class TestCallback(Callback):\n",
    "    def __init__(self, test_data):\n",
    "        self.test_data = test_data\n",
    "\n",
    "    def on_epoch_end(self, epoch, logs={}):\n",
    "        loss, acc = self.model.evaluate_generator(test_generator)\n",
    "        print('\\nTesting loss: {}, acc: {}\\n'.format(loss, acc))"
   ]
  },
  {
   "cell_type": "code",
   "execution_count": null,
   "metadata": {},
   "outputs": [],
   "source": [
    "earlystop = EarlyStopping(monitor='val_loss', patience=5, verbose=0, mode='min',restore_best_weights=True)\n",
    "mcp_save = ModelCheckpoint(name, save_best_only=True, monitor='val_loss', mode='min')\n",
    "reduce_lr_loss = ReduceLROnPlateau(monitor='val_loss', factor=0.1, patience=3, verbose=1, epsilon=1e-4, mode='min')\n",
    "    \n",
    "model.compile(loss='categorical_crossentropy',optimizer=keras.optimizers.SGD(),metrics=['accuracy'])\n",
    "model.fit_generator(generator=train_generator,epochs=200,validation_data = val_generator,\n",
    "                    verbose = 1,callbacks=[earlystop,mcp_save,reduce_lr_loss])"
   ]
  },
  {
   "cell_type": "code",
   "execution_count": null,
   "metadata": {
    "scrolled": true
   },
   "outputs": [],
   "source": [
    "model = keras.models.load_model(name)\n",
    "model.evaluate_generator(test_generator)"
   ]
  }
 ],
 "metadata": {
  "kernelspec": {
   "display_name": "Python 3",
   "language": "python",
   "name": "python3"
  },
  "language_info": {
   "codemirror_mode": {
    "name": "ipython",
    "version": 3
   },
   "file_extension": ".py",
   "mimetype": "text/x-python",
   "name": "python",
   "nbconvert_exporter": "python",
   "pygments_lexer": "ipython3",
   "version": "3.7.4"
  }
 },
 "nbformat": 4,
 "nbformat_minor": 4
}
