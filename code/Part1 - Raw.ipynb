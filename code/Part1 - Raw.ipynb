{
 "cells": [
  {
   "cell_type": "code",
   "execution_count": 1,
   "metadata": {},
   "outputs": [],
   "source": [
    "import numpy as np, os, random, shutil\n",
    "from PIL import Image\n",
    "from sklearn.preprocessing import LabelEncoder"
   ]
  },
  {
   "cell_type": "code",
   "execution_count": 2,
   "metadata": {},
   "outputs": [],
   "source": [
    "dir_1 = # where the images of kostas' images are saved\n",
    "dir_2 = # where the images of olga's  images are saved\n",
    "\n",
    "classes = np.load('classes.npy')"
   ]
  },
  {
   "cell_type": "code",
   "execution_count": 3,
   "metadata": {},
   "outputs": [],
   "source": [
    "x, y_n = [], []\n",
    "for c in classes:\n",
    "    for dir in os.listdir(dir_1):\n",
    "        if c==dir:\n",
    "            x.extend([dir_1+dir+'/'+f for f in os.listdir(dir_1+dir)])\n",
    "            y_n.extend([dir]*len(os.listdir(dir_1+dir)))\n",
    "            \n",
    "for c in classes:\n",
    "    for dir in os.listdir(dir_2):\n",
    "        if c==dir:\n",
    "            x.extend([dir_2+dir+'/'+f for f in os.listdir(dir_2+dir)])\n",
    "            y_n.extend([dir]*len(os.listdir(dir_2+dir)))"
   ]
  },
  {
   "cell_type": "code",
   "execution_count": 4,
   "metadata": {},
   "outputs": [],
   "source": [
    "le = LabelEncoder()\n",
    "y = le.fit_transform(y_n)\n",
    "x = np.array(x)"
   ]
  },
  {
   "cell_type": "code",
   "execution_count": 5,
   "metadata": {},
   "outputs": [],
   "source": [
    "X_train, X_dev, X_test = [], [], []\n",
    "Y_train, Y_dev, Y_test = [], [], []\n",
    "for i in range(0,max(y)+1):\n",
    "    indices = [j for j in range(len(y)) if y[j]==i]; random.shuffle(indices)\n",
    "    train = indices[0:int(len(indices)*0.6)]\n",
    "    dev   = indices[int(0.6*len(indices)):int(0.8*len(indices))]\n",
    "    test  = indices[int(0.8*len(indices)):len(indices)]\n",
    "    X_train.extend(x[train]); Y_train.extend([i]*len(train))\n",
    "    X_dev.extend(x[dev]); Y_dev.extend([i]*len(dev))\n",
    "    X_test.extend(x[test]); Y_test.extend([i]*len(test))"
   ]
  },
  {
   "cell_type": "code",
   "execution_count": 6,
   "metadata": {},
   "outputs": [],
   "source": [
    "np.save('data/x_val.npy',X_dev); np.save('data/y_val.npy',Y_dev)\n",
    "np.save('data/x_test.npy',X_test); np.save('data/y_test.npy',Y_test)\n",
    "np.save('data/x_train.npy',X_train); np.save('data/y_train.npy',Y_train)"
   ]
  }
 ],
 "metadata": {
  "kernelspec": {
   "display_name": "Python 3",
   "language": "python",
   "name": "python3"
  },
  "language_info": {
   "codemirror_mode": {
    "name": "ipython",
    "version": 3
   },
   "file_extension": ".py",
   "mimetype": "text/x-python",
   "name": "python",
   "nbconvert_exporter": "python",
   "pygments_lexer": "ipython3",
   "version": "3.7.4"
  }
 },
 "nbformat": 4,
 "nbformat_minor": 4
}
